{
 "cells": [
  {
   "cell_type": "code",
   "execution_count": null,
   "metadata": {
    "ExecuteTime": {
     "end_time": "2020-11-24T12:13:09.975925Z",
     "start_time": "2020-11-24T12:13:09.967928Z"
    }
   },
   "outputs": [],
   "source": [
    "from IPython.core.display import display, HTML\n",
    "display(HTML(\"<style>.container { width:90% !important; }</style>\"))\n",
    "display(HTML(\"<style>.output_result { max-width:90% !important; }</style>\"))\n",
    "display(HTML(\"<style>.prompt { display:none !important; }</style>\"))"
   ]
  },
  {
   "cell_type": "code",
   "execution_count": null,
   "metadata": {
    "ExecuteTime": {
     "end_time": "2020-11-24T12:30:56.557161Z",
     "start_time": "2020-11-24T12:30:56.554186Z"
    }
   },
   "outputs": [],
   "source": [
    "import os\n",
    "import sys\n",
    "import re\n",
    "import datetime\n",
    "import inspect\n",
    "import bs4 as bs\n",
    "import urllib.request\n",
    "import pandas as pd\n",
    "import matplotlib as mpl"
   ]
  },
  {
   "cell_type": "code",
   "execution_count": null,
   "metadata": {
    "ExecuteTime": {
     "end_time": "2020-11-24T12:30:56.992566Z",
     "start_time": "2020-11-24T12:30:56.982567Z"
    }
   },
   "outputs": [],
   "source": [
    "mlist = list(filter(lambda x: inspect.ismodule(x[1]), locals().items()))\n",
    "vi = sys.version_info\n",
    "print(\"Python: {0}.{1}.{2}\".format(vi.major, vi.minor, vi.micro))\n",
    "for name, mod in mlist:\n",
    "    mname = None\n",
    "    if name.startswith(\"__\"):\n",
    "        continue\n",
    "    if hasattr(mod, \"__version__\"):\n",
    "        if hasattr(mod, \"__path__\"):\n",
    "            mname = os.path.split(mod.__path__[0])[1]\n",
    "        if mname and mname != name:\n",
    "            print(\"{0} as {1}: {2}\".format(mname, name, mod.__version__))\n",
    "        else:\n",
    "            print(\"{0}: {1}\".format(name, mod.__version__))            \n",
    "    elif hasattr(mod, \"__file__\") and \"site-packages\" in mod.__file__:\n",
    "        if mname and mname != name:\n",
    "            print(\"{0} as {1}: No __version__ \".format(mname, name))\n",
    "        else:\n",
    "            print(\"{0}: No __version__ \".format(name))            \n",
    "del mod\n",
    "del name"
   ]
  },
  {
   "cell_type": "code",
   "execution_count": null,
   "metadata": {
    "ExecuteTime": {
     "end_time": "2020-11-24T12:32:41.375262Z",
     "start_time": "2020-11-24T12:32:41.061276Z"
    }
   },
   "outputs": [],
   "source": [
    "url = \"https://en.wikipedia.org/wiki/List_of_elections_in_the_United_States\"\n",
    "source = urllib.request.urlopen(url).read()\n",
    "soup = bs.BeautifulSoup(source,'lxml')\n",
    "#<table class=\"wikitable sortable jquery-tablesorter\" style=\"text-align:right;\">\n",
    "tables = soup.findAll('table', attrs={'class':'wikitable'})\n",
    "l = []\n",
    "dfs ={}\n",
    "table = tables[0]\n",
    "table_rows = table.find_all('tr')\n",
    "for tr in table_rows:\n",
    "    th = tr.find('th').text.strip()\n",
    "    td = tr.find_all('td')\n",
    "    row = [th] + [tr.text.strip() for tr in td]\n",
    "    l.append(row)\n",
    "df = pd.DataFrame(l, )\n",
    "df.drop(labels=6, axis=1, inplace=True)\n",
    "columns = [\"Year\", \"General\", \"Senate\", \"House\", \"President\", \"Governer\"]\n",
    "df.columns = columns\n",
    "print(df.shape)\n",
    "df.head()"
   ]
  },
  {
   "cell_type": "code",
   "execution_count": null,
   "metadata": {},
   "outputs": [],
   "source": [
    "multi_hdr = [('Election', 'year'), ('Winner & party', 'Winner'), ('Winner & party', 'party'), \n",
    "             ('Electoral College', 'Votes'), ('Electoral College', 'Pct'), \n",
    "             ('Popular vote', 'Pct'), ('Popular vote', 'MarginPct'), \n",
    "             ('Popular vote', 'Votes'), ('Popular vote', 'Margin'), \n",
    "             ('Runner-up & party', 'Runner-up'), ('Runner-up & party', 'party'), \n",
    "             ('Turnout', 'Pct')]\n",
    "df.columns = pd.MultiIndex.from_tuples(multi_hdr)\n",
    "int_cols = [('Popular vote','Margin'), ('Popular vote','Votes')]\n",
    "for ic in int_cols:\n",
    "    df[ic] = df[ic].apply(lambda x: int(x.replace(',', '').replace(\"−\", \"-\")))\n",
    "df.loc[df[('Turnout', 'Pct')] == '-%',('Turnout', 'Pct')] = '65.4'\n",
    "pct_cols = [('Electoral College', 'Pct'), ('Popular vote', 'Pct'),\n",
    "            ('Popular vote', 'MarginPct'),('Turnout', 'Pct')]\n",
    "for pc in pct_cols:\n",
    "    try:\n",
    "        df[pc] = df[pc].apply(lambda x: float(x.replace('%', '').replace(\"−\", \"-\")))    \n",
    "    except Exception as e:\n",
    "        print(pc)\n",
    "        raise Exception(e)\n",
    "df.loc[df[('Election','year')] == '1788–89',('Election','year') ] = 1789\n",
    "df.loc[df[('Election','year')] == '2020[Note 9]',('Election','year') ] = 2020\n",
    "df[('Election','year')] = df[('Election','year')].apply(lambda x: int(x))        \n",
    "print(df.head(2).to_string())\n",
    "print()\n",
    "print(df.tail(2).to_string())"
   ]
  }
 ],
 "metadata": {
  "kernelspec": {
   "display_name": "Python 3",
   "language": "python",
   "name": "python3"
  },
  "language_info": {
   "codemirror_mode": {
    "name": "ipython",
    "version": 3
   },
   "file_extension": ".py",
   "mimetype": "text/x-python",
   "name": "python",
   "nbconvert_exporter": "python",
   "pygments_lexer": "ipython3",
   "version": "3.9.0"
  }
 },
 "nbformat": 4,
 "nbformat_minor": 4
}
